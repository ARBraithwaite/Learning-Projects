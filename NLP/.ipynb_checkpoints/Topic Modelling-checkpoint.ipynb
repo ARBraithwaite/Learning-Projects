{
 "cells": [
  {
   "cell_type": "code",
   "execution_count": 1,
   "metadata": {},
   "outputs": [],
   "source": [
    "import pandas as pd\n",
    "import numpy as np\n",
    "\n",
    "from textblob import TextBlob\n",
    "from utility import *\n",
    "import spacy\n",
    "nlp = spacy.load(\"en_core_web_sm\") # English Model\n",
    "spacy_stopwords = spacy.lang.en.stop_words.STOP_WORDS # stop words\n",
    "# spacy_stopwords.remove('not') # words to keep\n",
    "\n",
    "import matplotlib.pyplot as plt\n",
    "import seaborn as sns\n",
    "sns.set_style(\"whitegrid\")\n",
    "\n",
    "%matplotlib inline\n",
    "\n",
    "RANDOM_STATE = 42\n",
    "\n",
    "import warnings\n",
    "warnings.filterwarnings('ignore')"
   ]
  },
  {
   "cell_type": "code",
   "execution_count": 2,
   "metadata": {},
   "outputs": [
    {
     "data": {
      "text/html": [
       "<div>\n",
       "<style scoped>\n",
       "    .dataframe tbody tr th:only-of-type {\n",
       "        vertical-align: middle;\n",
       "    }\n",
       "\n",
       "    .dataframe tbody tr th {\n",
       "        vertical-align: top;\n",
       "    }\n",
       "\n",
       "    .dataframe thead th {\n",
       "        text-align: right;\n",
       "    }\n",
       "</style>\n",
       "<table border=\"1\" class=\"dataframe\">\n",
       "  <thead>\n",
       "    <tr style=\"text-align: right;\">\n",
       "      <th></th>\n",
       "      <th>review</th>\n",
       "    </tr>\n",
       "  </thead>\n",
       "  <tbody>\n",
       "    <tr>\n",
       "      <th>0</th>\n",
       "      <td>This is the game the never, ever ends. I picke...</td>\n",
       "    </tr>\n",
       "    <tr>\n",
       "      <th>1</th>\n",
       "      <td>Ruined my life. Five stars.</td>\n",
       "    </tr>\n",
       "    <tr>\n",
       "      <th>2</th>\n",
       "      <td>I was stacking books on a shelf in my house in...</td>\n",
       "    </tr>\n",
       "    <tr>\n",
       "      <th>3</th>\n",
       "      <td>Best game I ever bought. In this game, you'll ...</td>\n",
       "    </tr>\n",
       "    <tr>\n",
       "      <th>4</th>\n",
       "      <td>Playing Skyrim is like masturbating. Feels goo...</td>\n",
       "    </tr>\n",
       "  </tbody>\n",
       "</table>\n",
       "</div>"
      ],
      "text/plain": [
       "                                              review\n",
       "0  This is the game the never, ever ends. I picke...\n",
       "1                        Ruined my life. Five stars.\n",
       "2  I was stacking books on a shelf in my house in...\n",
       "3  Best game I ever bought. In this game, you'll ...\n",
       "4  Playing Skyrim is like masturbating. Feels goo..."
      ]
     },
     "execution_count": 2,
     "metadata": {},
     "output_type": "execute_result"
    }
   ],
   "source": [
    "data = pd.read_csv('Skyrim_Reviews.csv', usecols=['review'])\n",
    "data.head()"
   ]
  },
  {
   "cell_type": "markdown",
   "metadata": {},
   "source": [
    "## Text Preprocess"
   ]
  },
  {
   "cell_type": "code",
   "execution_count": 3,
   "metadata": {},
   "outputs": [],
   "source": [
    "corpus = normalise_text(data['review'], All =True, remove_digit=True, stopword=spacy_stopwords)"
   ]
  },
  {
   "cell_type": "markdown",
   "metadata": {},
   "source": [
    "## Count Vector"
   ]
  },
  {
   "cell_type": "code",
   "execution_count": 79,
   "metadata": {},
   "outputs": [],
   "source": [
    "from sklearn.feature_extraction.text import CountVectorizer\n",
    "\n",
    "count_vector = CountVectorizer(tokenizer = tokenize, ngram_range=(1,1), min_df=5, lowercase=True)\n",
    "corpus_count_vec = count_vector.fit_transform(corpus)"
   ]
  },
  {
   "cell_type": "code",
   "execution_count": 80,
   "metadata": {},
   "outputs": [],
   "source": [
    "corpus_vec = pd.DataFrame(corpus_count_vec.toarray(), columns=count_vector.get_feature_names())"
   ]
  },
  {
   "cell_type": "code",
   "execution_count": 81,
   "metadata": {},
   "outputs": [
    {
     "data": {
      "text/html": [
       "<div>\n",
       "<style scoped>\n",
       "    .dataframe tbody tr th:only-of-type {\n",
       "        vertical-align: middle;\n",
       "    }\n",
       "\n",
       "    .dataframe tbody tr th {\n",
       "        vertical-align: top;\n",
       "    }\n",
       "\n",
       "    .dataframe thead th {\n",
       "        text-align: right;\n",
       "    }\n",
       "</style>\n",
       "<table border=\"1\" class=\"dataframe\">\n",
       "  <thead>\n",
       "    <tr style=\"text-align: right;\">\n",
       "      <th></th>\n",
       "      <th>aaa</th>\n",
       "      <th>abandon</th>\n",
       "      <th>ability</th>\n",
       "      <th>able</th>\n",
       "      <th>absolute</th>\n",
       "      <th>absolutely</th>\n",
       "      <th>absorb</th>\n",
       "      <th>absurd</th>\n",
       "      <th>abuse</th>\n",
       "      <th>accept</th>\n",
       "      <th>...</th>\n",
       "      <th>yield</th>\n",
       "      <th>yo</th>\n",
       "      <th>young</th>\n",
       "      <th>youtube</th>\n",
       "      <th>zaan</th>\n",
       "      <th>zenimax</th>\n",
       "      <th>zero</th>\n",
       "      <th>zin</th>\n",
       "      <th>zindro</th>\n",
       "      <th>zombie</th>\n",
       "    </tr>\n",
       "  </thead>\n",
       "  <tbody>\n",
       "    <tr>\n",
       "      <th>0</th>\n",
       "      <td>0</td>\n",
       "      <td>0</td>\n",
       "      <td>0</td>\n",
       "      <td>0</td>\n",
       "      <td>0</td>\n",
       "      <td>0</td>\n",
       "      <td>0</td>\n",
       "      <td>0</td>\n",
       "      <td>0</td>\n",
       "      <td>0</td>\n",
       "      <td>...</td>\n",
       "      <td>0</td>\n",
       "      <td>0</td>\n",
       "      <td>0</td>\n",
       "      <td>0</td>\n",
       "      <td>0</td>\n",
       "      <td>0</td>\n",
       "      <td>0</td>\n",
       "      <td>0</td>\n",
       "      <td>0</td>\n",
       "      <td>0</td>\n",
       "    </tr>\n",
       "    <tr>\n",
       "      <th>1</th>\n",
       "      <td>0</td>\n",
       "      <td>0</td>\n",
       "      <td>0</td>\n",
       "      <td>0</td>\n",
       "      <td>0</td>\n",
       "      <td>0</td>\n",
       "      <td>0</td>\n",
       "      <td>0</td>\n",
       "      <td>0</td>\n",
       "      <td>0</td>\n",
       "      <td>...</td>\n",
       "      <td>0</td>\n",
       "      <td>0</td>\n",
       "      <td>0</td>\n",
       "      <td>0</td>\n",
       "      <td>0</td>\n",
       "      <td>0</td>\n",
       "      <td>0</td>\n",
       "      <td>0</td>\n",
       "      <td>0</td>\n",
       "      <td>0</td>\n",
       "    </tr>\n",
       "    <tr>\n",
       "      <th>2</th>\n",
       "      <td>0</td>\n",
       "      <td>0</td>\n",
       "      <td>3</td>\n",
       "      <td>1</td>\n",
       "      <td>0</td>\n",
       "      <td>1</td>\n",
       "      <td>0</td>\n",
       "      <td>0</td>\n",
       "      <td>0</td>\n",
       "      <td>0</td>\n",
       "      <td>...</td>\n",
       "      <td>1</td>\n",
       "      <td>0</td>\n",
       "      <td>0</td>\n",
       "      <td>0</td>\n",
       "      <td>0</td>\n",
       "      <td>0</td>\n",
       "      <td>0</td>\n",
       "      <td>0</td>\n",
       "      <td>0</td>\n",
       "      <td>0</td>\n",
       "    </tr>\n",
       "    <tr>\n",
       "      <th>3</th>\n",
       "      <td>0</td>\n",
       "      <td>0</td>\n",
       "      <td>0</td>\n",
       "      <td>1</td>\n",
       "      <td>0</td>\n",
       "      <td>0</td>\n",
       "      <td>0</td>\n",
       "      <td>0</td>\n",
       "      <td>0</td>\n",
       "      <td>0</td>\n",
       "      <td>...</td>\n",
       "      <td>0</td>\n",
       "      <td>0</td>\n",
       "      <td>0</td>\n",
       "      <td>0</td>\n",
       "      <td>0</td>\n",
       "      <td>0</td>\n",
       "      <td>0</td>\n",
       "      <td>0</td>\n",
       "      <td>0</td>\n",
       "      <td>0</td>\n",
       "    </tr>\n",
       "    <tr>\n",
       "      <th>4</th>\n",
       "      <td>0</td>\n",
       "      <td>0</td>\n",
       "      <td>0</td>\n",
       "      <td>0</td>\n",
       "      <td>0</td>\n",
       "      <td>0</td>\n",
       "      <td>0</td>\n",
       "      <td>0</td>\n",
       "      <td>0</td>\n",
       "      <td>0</td>\n",
       "      <td>...</td>\n",
       "      <td>0</td>\n",
       "      <td>0</td>\n",
       "      <td>0</td>\n",
       "      <td>0</td>\n",
       "      <td>0</td>\n",
       "      <td>0</td>\n",
       "      <td>0</td>\n",
       "      <td>0</td>\n",
       "      <td>0</td>\n",
       "      <td>0</td>\n",
       "    </tr>\n",
       "  </tbody>\n",
       "</table>\n",
       "<p>5 rows × 3276 columns</p>\n",
       "</div>"
      ],
      "text/plain": [
       "   aaa  abandon  ability  able  absolute  absolutely  absorb  absurd  abuse  \\\n",
       "0    0        0        0     0         0           0       0       0      0   \n",
       "1    0        0        0     0         0           0       0       0      0   \n",
       "2    0        0        3     1         0           1       0       0      0   \n",
       "3    0        0        0     1         0           0       0       0      0   \n",
       "4    0        0        0     0         0           0       0       0      0   \n",
       "\n",
       "   accept  ...  yield  yo  young  youtube  zaan  zenimax  zero  zin  zindro  \\\n",
       "0       0  ...      0   0      0        0     0        0     0    0       0   \n",
       "1       0  ...      0   0      0        0     0        0     0    0       0   \n",
       "2       0  ...      1   0      0        0     0        0     0    0       0   \n",
       "3       0  ...      0   0      0        0     0        0     0    0       0   \n",
       "4       0  ...      0   0      0        0     0        0     0    0       0   \n",
       "\n",
       "   zombie  \n",
       "0       0  \n",
       "1       0  \n",
       "2       0  \n",
       "3       0  \n",
       "4       0  \n",
       "\n",
       "[5 rows x 3276 columns]"
      ]
     },
     "execution_count": 81,
     "metadata": {},
     "output_type": "execute_result"
    }
   ],
   "source": [
    "corpus_vec = corpus_vec.iloc[:,9:]\n",
    "corpus_vec.head()"
   ]
  },
  {
   "cell_type": "markdown",
   "metadata": {},
   "source": [
    "# Topic Models\n",
    "\n",
    "Topic modeling is a form of dimensionality reduction. Rather than representing a text T in its feature space as a word requency vector, we can represent the text in its topic space as topic weight vector."
   ]
  },
  {
   "cell_type": "code",
   "execution_count": 37,
   "metadata": {},
   "outputs": [],
   "source": [
    "from sklearn.decomposition import NMF, LatentDirichletAllocation, TruncatedSVD\n",
    "n_topics = 5"
   ]
  },
  {
   "cell_type": "code",
   "execution_count": 13,
   "metadata": {},
   "outputs": [],
   "source": [
    "def print_topics(model, vectorizer, top_n=10):\n",
    "    for idx, topic in enumerate(model.components_):\n",
    "        print(f'Topic: {idx}')\n",
    "        print([(vectorizer.get_feature_names()[i], topic[i])\n",
    "                        for i in topic.argsort()[:-top_n - 1:-1]])"
   ]
  },
  {
   "cell_type": "code",
   "execution_count": 14,
   "metadata": {},
   "outputs": [],
   "source": [
    "def document_topics(DTM):\n",
    "    return [np.argmax(doc) for doc in DTM]"
   ]
  },
  {
   "cell_type": "markdown",
   "metadata": {},
   "source": [
    "### NMF (Non-Negative Matrix Factorization)\n",
    "\n",
    "A matrix V is factorized into two matrices W and H, with the property that all three matrices have no negative elements.\n",
    "\n",
    "E.g. Let the input matrix be V with 10000 rows and 500 columns where we have 500 documents indexed by 10000 words. It follows that a column vector v in V represents a document.\n",
    "\n",
    "Assume we ask the algorithm to find 10 features(Topics) in order to generate a features matrix W with 10000 rows and 10 columns and a coefficients matrix H with 10 rows and 500 columns.\n",
    "\n",
    "The product of W and H is a matrix with 10000 rows and 500 columns, the same shape as the input matrix V and, if the factorization worked, it is a reasonable approximation to the input matrix V."
   ]
  },
  {
   "cell_type": "code",
   "execution_count": 82,
   "metadata": {},
   "outputs": [
    {
     "name": "stdout",
     "output_type": "stream",
     "text": [
      "(NO_DOCUMENTS, NO_TOPICS) - (7165, 5), (NO_TOPICS, NO_WORDS) - (5, 3276)\n"
     ]
    }
   ],
   "source": [
    "nmf_model = NMF(n_components=n_topics, solver='mu', random_state=RANDOM_STATE)\n",
    "W = nmf_model.fit_transform(corpus_vec)\n",
    "H = nmf_model.components_\n",
    "print(f'(NO_DOCUMENTS, NO_TOPICS) - {W.shape}, (NO_TOPICS, NO_WORDS) - {H.shape}')"
   ]
  },
  {
   "cell_type": "code",
   "execution_count": 83,
   "metadata": {},
   "outputs": [
    {
     "name": "stdout",
     "output_type": "stream",
     "text": [
      "Topic: 0\n",
      "[('funny', 14.462938738595762), ('nordic', 4.669816378083711), ('skeleton', 4.554737405878323)]\n",
      "Topic: 1\n",
      "[('misc', 10.419635264806484), ('patch', 4.029608968746222), ('nordic', 2.544165854377219)]\n",
      "Topic: 2\n",
      "[('skeleton', 4.204275417285048), ('dovahkiin', 3.7341540762063135), ('nordic', 3.2419373606952706)]\n",
      "Topic: 3\n",
      "[('modders', 7.990232025672688), ('fps', 7.936097654064759), ('owe', 0.08025941367853621)]\n",
      "Topic: 4\n",
      "[('nordic', 7.480477119971531), ('thank', 3.033060761652455), ('finish', 2.65476788695276)]\n"
     ]
    }
   ],
   "source": [
    "print_topics(nmf_model, count_vector, 3)"
   ]
  },
  {
   "cell_type": "code",
   "execution_count": 84,
   "metadata": {},
   "outputs": [
    {
     "data": {
      "text/html": [
       "<div>\n",
       "<style scoped>\n",
       "    .dataframe tbody tr th:only-of-type {\n",
       "        vertical-align: middle;\n",
       "    }\n",
       "\n",
       "    .dataframe tbody tr th {\n",
       "        vertical-align: top;\n",
       "    }\n",
       "\n",
       "    .dataframe thead th {\n",
       "        text-align: right;\n",
       "    }\n",
       "</style>\n",
       "<table border=\"1\" class=\"dataframe\">\n",
       "  <thead>\n",
       "    <tr style=\"text-align: right;\">\n",
       "      <th></th>\n",
       "      <th>review</th>\n",
       "      <th>nmf_topic</th>\n",
       "      <th>lsa_topic</th>\n",
       "      <th>lda_topic</th>\n",
       "    </tr>\n",
       "  </thead>\n",
       "  <tbody>\n",
       "    <tr>\n",
       "      <th>0</th>\n",
       "      <td>This is the game the never, ever ends. I picke...</td>\n",
       "      <td>0</td>\n",
       "      <td>0</td>\n",
       "      <td>0</td>\n",
       "    </tr>\n",
       "    <tr>\n",
       "      <th>1</th>\n",
       "      <td>Ruined my life. Five stars.</td>\n",
       "      <td>2</td>\n",
       "      <td>3</td>\n",
       "      <td>0</td>\n",
       "    </tr>\n",
       "    <tr>\n",
       "      <th>2</th>\n",
       "      <td>I was stacking books on a shelf in my house in...</td>\n",
       "      <td>2</td>\n",
       "      <td>3</td>\n",
       "      <td>0</td>\n",
       "    </tr>\n",
       "    <tr>\n",
       "      <th>3</th>\n",
       "      <td>Best game I ever bought. In this game, you'll ...</td>\n",
       "      <td>0</td>\n",
       "      <td>0</td>\n",
       "      <td>3</td>\n",
       "    </tr>\n",
       "    <tr>\n",
       "      <th>4</th>\n",
       "      <td>Playing Skyrim is like masturbating. Feels goo...</td>\n",
       "      <td>0</td>\n",
       "      <td>0</td>\n",
       "      <td>1</td>\n",
       "    </tr>\n",
       "  </tbody>\n",
       "</table>\n",
       "</div>"
      ],
      "text/plain": [
       "                                              review  nmf_topic  lsa_topic  \\\n",
       "0  This is the game the never, ever ends. I picke...          0          0   \n",
       "1                        Ruined my life. Five stars.          2          3   \n",
       "2  I was stacking books on a shelf in my house in...          2          3   \n",
       "3  Best game I ever bought. In this game, you'll ...          0          0   \n",
       "4  Playing Skyrim is like masturbating. Feels goo...          0          0   \n",
       "\n",
       "   lda_topic  \n",
       "0          0  \n",
       "1          0  \n",
       "2          0  \n",
       "3          3  \n",
       "4          1  "
      ]
     },
     "execution_count": 84,
     "metadata": {},
     "output_type": "execute_result"
    }
   ],
   "source": [
    "data['nmf_topic'] = pd.Series(document_topics(W))\n",
    "data.head()"
   ]
  },
  {
   "cell_type": "markdown",
   "metadata": {},
   "source": [
    "## LSA (Latent Semantic Analysis)\n",
    "\n",
    "LSA learns latent topics by performing a matrix decomposition on the document-term matrix using Singular value decomposition.\n",
    "\n",
    "Singular value decomposition is a method of decomposing a matrix into three other matrices:\n",
    "\n",
    "M=UΣV*\n",
    "\n",
    "- M is an m×m matrix (Document-Term Matrix)\n",
    "- U is a m×n left singular matrix (Term Topic Matrix)\n",
    "- Σ is a n×n diagonal matrix with non-negative real numbers. (Topic Topic Matrix (Topic Importance))\n",
    "- V is a m×n right singular matrix (Topic Document Matrix)\n",
    "- V* is n×m matrix, which is the transpose of the V."
   ]
  },
  {
   "cell_type": "code",
   "execution_count": 85,
   "metadata": {},
   "outputs": [],
   "source": [
    "lsa_model = TruncatedSVD(n_components=n_topics, random_state=RANDOM_STATE)\n",
    "lsa_Z = lsa_model.fit_transform(corpus_vec)"
   ]
  },
  {
   "cell_type": "code",
   "execution_count": 86,
   "metadata": {},
   "outputs": [
    {
     "name": "stdout",
     "output_type": "stream",
     "text": [
      "Topic: 0\n",
      "[('funny', 0.6218708162568187), ('nordic', 0.4095543268318277), ('misc', 0.34124817297607096)]\n",
      "Topic: 1\n",
      "[('misc', 0.6765850362623368), ('patch', 0.2710056428289772), ('fps', 0.14947388671972633)]\n",
      "Topic: 2\n",
      "[('nordic', 0.30925063172353695), ('skeleton', 0.23946585250711863), ('dovahkiin', 0.19943576074954164)]\n",
      "Topic: 3\n",
      "[('modders', 0.6928899983646187), ('fps', 0.6822956765771313), ('funny', 0.08978095511235629)]\n",
      "Topic: 4\n",
      "[('nordic', 0.5220092128731173), ('thank', 0.20904856523989362), ('finish', 0.18319589190501598)]\n"
     ]
    }
   ],
   "source": [
    "print_topics(lsa_model, count_vector, 3)"
   ]
  },
  {
   "cell_type": "code",
   "execution_count": 87,
   "metadata": {},
   "outputs": [
    {
     "data": {
      "text/html": [
       "<div>\n",
       "<style scoped>\n",
       "    .dataframe tbody tr th:only-of-type {\n",
       "        vertical-align: middle;\n",
       "    }\n",
       "\n",
       "    .dataframe tbody tr th {\n",
       "        vertical-align: top;\n",
       "    }\n",
       "\n",
       "    .dataframe thead th {\n",
       "        text-align: right;\n",
       "    }\n",
       "</style>\n",
       "<table border=\"1\" class=\"dataframe\">\n",
       "  <thead>\n",
       "    <tr style=\"text-align: right;\">\n",
       "      <th></th>\n",
       "      <th>review</th>\n",
       "      <th>nmf_topic</th>\n",
       "      <th>lsa_topic</th>\n",
       "      <th>lda_topic</th>\n",
       "    </tr>\n",
       "  </thead>\n",
       "  <tbody>\n",
       "    <tr>\n",
       "      <th>0</th>\n",
       "      <td>This is the game the never, ever ends. I picke...</td>\n",
       "      <td>0</td>\n",
       "      <td>0</td>\n",
       "      <td>0</td>\n",
       "    </tr>\n",
       "    <tr>\n",
       "      <th>1</th>\n",
       "      <td>Ruined my life. Five stars.</td>\n",
       "      <td>2</td>\n",
       "      <td>2</td>\n",
       "      <td>0</td>\n",
       "    </tr>\n",
       "    <tr>\n",
       "      <th>2</th>\n",
       "      <td>I was stacking books on a shelf in my house in...</td>\n",
       "      <td>2</td>\n",
       "      <td>2</td>\n",
       "      <td>0</td>\n",
       "    </tr>\n",
       "    <tr>\n",
       "      <th>3</th>\n",
       "      <td>Best game I ever bought. In this game, you'll ...</td>\n",
       "      <td>0</td>\n",
       "      <td>0</td>\n",
       "      <td>3</td>\n",
       "    </tr>\n",
       "    <tr>\n",
       "      <th>4</th>\n",
       "      <td>Playing Skyrim is like masturbating. Feels goo...</td>\n",
       "      <td>0</td>\n",
       "      <td>0</td>\n",
       "      <td>1</td>\n",
       "    </tr>\n",
       "  </tbody>\n",
       "</table>\n",
       "</div>"
      ],
      "text/plain": [
       "                                              review  nmf_topic  lsa_topic  \\\n",
       "0  This is the game the never, ever ends. I picke...          0          0   \n",
       "1                        Ruined my life. Five stars.          2          2   \n",
       "2  I was stacking books on a shelf in my house in...          2          2   \n",
       "3  Best game I ever bought. In this game, you'll ...          0          0   \n",
       "4  Playing Skyrim is like masturbating. Feels goo...          0          0   \n",
       "\n",
       "   lda_topic  \n",
       "0          0  \n",
       "1          0  \n",
       "2          0  \n",
       "3          3  \n",
       "4          1  "
      ]
     },
     "execution_count": 87,
     "metadata": {},
     "output_type": "execute_result"
    }
   ],
   "source": [
    "data['lsa_topic'] = pd.Series(document_topics(lsa_Z))\n",
    "data.head()"
   ]
  },
  {
   "cell_type": "markdown",
   "metadata": {},
   "source": [
    "## LDA (Latent Dirichlet Allocation)\n",
    "Latent Dirichlet Allocation is a probabilistic method for Topic Modelling. The purpose of LDA is to compute how much of the document was generated by which topic.\n",
    "\n",
    "We get a probability distribution over the k topics for each document. Each word in the document is attributed to a particular topic with probability given by this distribution."
   ]
  },
  {
   "cell_type": "code",
   "execution_count": 88,
   "metadata": {},
   "outputs": [],
   "source": [
    "lda_model = LatentDirichletAllocation(n_components=n_topics, max_iter=10, learning_method='online',\\\n",
    "                                      n_jobs=-1, random_state=RANDOM_STATE)\n",
    "lda_Z = lda_model.fit_transform(corpus_vec)"
   ]
  },
  {
   "cell_type": "code",
   "execution_count": 89,
   "metadata": {},
   "outputs": [
    {
     "name": "stdout",
     "output_type": "stream",
     "text": [
      "Topic: 0\n",
      "[('funny', 5012.982656694397), ('skeleton', 1873.8731525737126), ('nordic', 1376.2361327326485)]\n",
      "Topic: 1\n",
      "[('funny', 1125.9803724800176), ('pity', 660.7930171607052), ('glorious', 474.78531810289724)]\n",
      "Topic: 2\n",
      "[('nordic', 1101.8097081992448), ('funny', 754.9385023854906), ('dovahkiin', 631.4539930187539)]\n",
      "Topic: 3\n",
      "[('dovahkiin', 227.42624470456602), ('archmage', 161.57698493711072), ('pure', 157.93420613825606)]\n",
      "Topic: 4\n",
      "[('misc', 5148.484969484369), ('funny', 3186.0302331142784), ('nordic', 2767.7942922070993)]\n"
     ]
    }
   ],
   "source": [
    "print_topics(lda_model, count_vector, 3)"
   ]
  },
  {
   "cell_type": "code",
   "execution_count": 90,
   "metadata": {},
   "outputs": [
    {
     "data": {
      "text/html": [
       "<div>\n",
       "<style scoped>\n",
       "    .dataframe tbody tr th:only-of-type {\n",
       "        vertical-align: middle;\n",
       "    }\n",
       "\n",
       "    .dataframe tbody tr th {\n",
       "        vertical-align: top;\n",
       "    }\n",
       "\n",
       "    .dataframe thead th {\n",
       "        text-align: right;\n",
       "    }\n",
       "</style>\n",
       "<table border=\"1\" class=\"dataframe\">\n",
       "  <thead>\n",
       "    <tr style=\"text-align: right;\">\n",
       "      <th></th>\n",
       "      <th>review</th>\n",
       "      <th>nmf_topic</th>\n",
       "      <th>lsa_topic</th>\n",
       "      <th>lda_topic</th>\n",
       "    </tr>\n",
       "  </thead>\n",
       "  <tbody>\n",
       "    <tr>\n",
       "      <th>0</th>\n",
       "      <td>This is the game the never, ever ends. I picke...</td>\n",
       "      <td>0</td>\n",
       "      <td>0</td>\n",
       "      <td>1</td>\n",
       "    </tr>\n",
       "    <tr>\n",
       "      <th>1</th>\n",
       "      <td>Ruined my life. Five stars.</td>\n",
       "      <td>2</td>\n",
       "      <td>2</td>\n",
       "      <td>2</td>\n",
       "    </tr>\n",
       "    <tr>\n",
       "      <th>2</th>\n",
       "      <td>I was stacking books on a shelf in my house in...</td>\n",
       "      <td>2</td>\n",
       "      <td>2</td>\n",
       "      <td>3</td>\n",
       "    </tr>\n",
       "    <tr>\n",
       "      <th>3</th>\n",
       "      <td>Best game I ever bought. In this game, you'll ...</td>\n",
       "      <td>0</td>\n",
       "      <td>0</td>\n",
       "      <td>1</td>\n",
       "    </tr>\n",
       "    <tr>\n",
       "      <th>4</th>\n",
       "      <td>Playing Skyrim is like masturbating. Feels goo...</td>\n",
       "      <td>0</td>\n",
       "      <td>0</td>\n",
       "      <td>1</td>\n",
       "    </tr>\n",
       "  </tbody>\n",
       "</table>\n",
       "</div>"
      ],
      "text/plain": [
       "                                              review  nmf_topic  lsa_topic  \\\n",
       "0  This is the game the never, ever ends. I picke...          0          0   \n",
       "1                        Ruined my life. Five stars.          2          2   \n",
       "2  I was stacking books on a shelf in my house in...          2          2   \n",
       "3  Best game I ever bought. In this game, you'll ...          0          0   \n",
       "4  Playing Skyrim is like masturbating. Feels goo...          0          0   \n",
       "\n",
       "   lda_topic  \n",
       "0          1  \n",
       "1          2  \n",
       "2          3  \n",
       "3          1  \n",
       "4          1  "
      ]
     },
     "execution_count": 90,
     "metadata": {},
     "output_type": "execute_result"
    }
   ],
   "source": [
    "data['lda_topic'] = pd.Series(document_topics(lda_Z))\n",
    "data.head()"
   ]
  },
  {
   "cell_type": "markdown",
   "metadata": {},
   "source": [
    "## Determine Number of Topics\n",
    "Topic Coherence -\n",
    "\n",
    "measures score a single topic by measuring the degree of semantic similarity between high scoring words in the topic.\n",
    "\n",
    "A set of statements or facts is said to be coherent, if they support each other.\n",
    "\n",
    "Coherence Measures:\n",
    "\n",
    "1. C_v measure is based on a sliding window, one-set segmentation of the top words and an indirect confirmation measure that uses normalized pointwise mutual information (NPMI) and the cosine similarity\n",
    "2. C_p is based on a sliding window, one-preceding segmentation of the top words and the confirmation measure of Fitelson’s coherence\n",
    "3. C_uci measure is based on a sliding window and the pointwise mutual information (PMI) of all word pairs of the given top words\n",
    "4. C_umass is based on document cooccurrence counts, a one-preceding segmentation and a logarithmic conditional probability as confirmation measure\n",
    "5. C_npmi is an enhanced version of the C_uci coherence using the normalized pointwise mutual information (NPMI)\n",
    "6. C_a is baseed on a context window, a pairwise comparison of the top words and an indirect confirmation measure that uses normalized pointwise mutual information (NPMI) and the cosine similarity"
   ]
  },
  {
   "cell_type": "code",
   "execution_count": 35,
   "metadata": {},
   "outputs": [],
   "source": [
    "from gensim import corpora\n",
    "from gensim.models.ldamodel import LdaModel\n",
    "from gensim.models.coherencemodel import CoherenceModel\n",
    "\n",
    "terms = [tokenize(doc) for doc in corpus]\n",
    "dictionary = corpora.Dictionary(terms)\n",
    "doc_term_matrix = [dictionary.doc2bow(term) for term in terms]\n",
    "\n",
    "n_topics = 10\n",
    "topic_range = range(1, n_topics + 1)\n",
    "coherence_values = []\n",
    "\n",
    "for i in topic_range:\n",
    "    model = LdaModel(doc_term_matrix, num_topics=i, id2word=dictionary)\n",
    "    \n",
    "    coherencemodel = CoherenceModel(model=model, texts=terms, coherence='c_v')\n",
    "    coherence_values.append(coherencemodel.get_coherence())"
   ]
  },
  {
   "cell_type": "code",
   "execution_count": 36,
   "metadata": {},
   "outputs": [
    {
     "data": {
      "text/plain": [
       "Text(0.5, 1.0, 'Topic Coherence: Determine Optimal Number of Topics')"
      ]
     },
     "execution_count": 36,
     "metadata": {},
     "output_type": "execute_result"
    },
    {
     "data": {
      "image/png": "[encoded data removed]",
      "text/plain": [
       "<Figure size 1080x360 with 1 Axes>"
      ]
     },
     "metadata": {
      "needs_background": "light"
     },
     "output_type": "display_data"
    }
   ],
   "source": [
    "fig, axis = plt.subplots(1, 1, figsize=(15,5))\n",
    "\n",
    "axis.plot(topic_range, coherence_values, 'bo-')\n",
    "axis.set_xlabel('Topics') \n",
    "axis.set_ylabel('Coherence Value') \n",
    "axis.set_title('Topic Coherence: Determine Optimal Number of Topics')"
   ]
  }
 ],
 "metadata": {
  "kernelspec": {
   "display_name": "Python 3",
   "language": "python",
   "name": "python3"
  },
  "language_info": {
   "codemirror_mode": {
    "name": "ipython",
    "version": 3
   },
   "file_extension": ".py",
   "mimetype": "text/x-python",
   "name": "python",
   "nbconvert_exporter": "python",
   "pygments_lexer": "ipython3",
   "version": "3.6.9"
  }
 },
 "nbformat": 4,
 "nbformat_minor": 2
}
