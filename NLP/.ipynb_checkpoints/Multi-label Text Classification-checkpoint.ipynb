{
 "cells": [
  {
   "cell_type": "markdown",
   "metadata": {},
   "source": [
    "# ML Article Classification\n",
    "\n",
    "Articles can have up to 10 tags associated with them.\n",
    "\n",
    "A range of methods/solutions have been tried.\n",
    "\n",
    "Key problems: Label Dependency, Label counts, correctness of label classifications"
   ]
  },
  {
   "cell_type": "code",
   "execution_count": 1,
   "metadata": {},
   "outputs": [],
   "source": [
    "import pandas as pd\n",
    "import numpy as np\n",
    "\n",
    "import sys\n",
    "sys.path.append('scripts/')\n",
    "from utility import *\n",
    "import spacy\n",
    "nlp = spacy.load(\"en_core_web_sm\") # English Model\n",
    "spacy_stopwords = spacy.lang.en.stop_words.STOP_WORDS # stop words\n",
    "from time import perf_counter\n",
    "\n",
    "import matplotlib.pyplot as plt\n",
    "import seaborn as sns\n",
    "\n",
    "RANDOM_STATE = 42\n",
    "\n",
    "import warnings\n",
    "warnings.filterwarnings('ignore')"
   ]
  },
  {
   "cell_type": "code",
   "execution_count": 48,
   "metadata": {},
   "outputs": [
    {
     "data": {
      "text/html": [
       "<div>\n",
       "<style scoped>\n",
       "    .dataframe tbody tr th:only-of-type {\n",
       "        vertical-align: middle;\n",
       "    }\n",
       "\n",
       "    .dataframe tbody tr th {\n",
       "        vertical-align: top;\n",
       "    }\n",
       "\n",
       "    .dataframe thead th {\n",
       "        text-align: right;\n",
       "    }\n",
       "</style>\n",
       "<table border=\"1\" class=\"dataframe\">\n",
       "  <thead>\n",
       "    <tr style=\"text-align: right;\">\n",
       "      <th></th>\n",
       "      <th>url</th>\n",
       "      <th>text</th>\n",
       "      <th>tag_list</th>\n",
       "      <th>text_clean</th>\n",
       "      <th>tag_tips and tricks_cleaning</th>\n",
       "      <th>tag_tips and tricks</th>\n",
       "      <th>tag_diy detergents</th>\n",
       "      <th>tag_100% natural</th>\n",
       "      <th>tag_general bathroom cleaning</th>\n",
       "      <th>tag_housekeeping</th>\n",
       "      <th>...</th>\n",
       "      <th>tag_sustainability fast fashion</th>\n",
       "      <th>tag_social media discoverer</th>\n",
       "      <th>tag_social media consumer</th>\n",
       "      <th>tag_sustainability plastic_free</th>\n",
       "      <th>tag_sustainability_newcomer</th>\n",
       "      <th>tag_domestic_staycation</th>\n",
       "      <th>tag_vegan mindset</th>\n",
       "      <th>raw_text</th>\n",
       "      <th>text_norm</th>\n",
       "      <th>path_title</th>\n",
       "    </tr>\n",
       "  </thead>\n",
       "  <tbody>\n",
       "    <tr>\n",
       "      <th>0</th>\n",
       "      <td>https://www.cleanipedia.com/gb/bathroom-cleani...</td>\n",
       "      <td>Distilled vinegar can be used in many differen...</td>\n",
       "      <td>['tips and tricks_cleaning', 'tips and tricks'...</td>\n",
       "      <td>distil vinegar use mani differ way around home...</td>\n",
       "      <td>1</td>\n",
       "      <td>1</td>\n",
       "      <td>1</td>\n",
       "      <td>1</td>\n",
       "      <td>1</td>\n",
       "      <td>1</td>\n",
       "      <td>...</td>\n",
       "      <td>0</td>\n",
       "      <td>0</td>\n",
       "      <td>0</td>\n",
       "      <td>0</td>\n",
       "      <td>0</td>\n",
       "      <td>0</td>\n",
       "      <td>0</td>\n",
       "      <td>White Wine Vinegar for Cleaning: Using Vinegar...</td>\n",
       "      <td>White Wine vinegar clean vinegar clean Bathroo...</td>\n",
       "      <td>bathroom cleaning with white vinegar</td>\n",
       "    </tr>\n",
       "    <tr>\n",
       "      <th>1</th>\n",
       "      <td>https://www.cleanipedia.com/gb/bathroom-cleani...</td>\n",
       "      <td>Everyone likes their bathroom to look good, fu...</td>\n",
       "      <td>['storage', 'home decor', 'home decor', 'tips ...</td>\n",
       "      <td>everyon like bathroom look good function well ...</td>\n",
       "      <td>0</td>\n",
       "      <td>1</td>\n",
       "      <td>0</td>\n",
       "      <td>0</td>\n",
       "      <td>1</td>\n",
       "      <td>0</td>\n",
       "      <td>...</td>\n",
       "      <td>0</td>\n",
       "      <td>0</td>\n",
       "      <td>0</td>\n",
       "      <td>0</td>\n",
       "      <td>0</td>\n",
       "      <td>0</td>\n",
       "      <td>0</td>\n",
       "      <td>Bathroom décor ideas that save space – and cle...</td>\n",
       "      <td>Bathroom dcor idea save space clean easily bat...</td>\n",
       "      <td>bathroom decor ideas that save space and clean...</td>\n",
       "    </tr>\n",
       "    <tr>\n",
       "      <th>2</th>\n",
       "      <td>https://www.cleanipedia.com/gb/bathroom-cleani...</td>\n",
       "      <td>Toilet seats are a hive of bacteria, and altho...</td>\n",
       "      <td>['anti bac', 'disinfection', 'germ transmissio...</td>\n",
       "      <td>toilet seat hive bacteria although germ surviv...</td>\n",
       "      <td>0</td>\n",
       "      <td>1</td>\n",
       "      <td>0</td>\n",
       "      <td>0</td>\n",
       "      <td>0</td>\n",
       "      <td>0</td>\n",
       "      <td>...</td>\n",
       "      <td>0</td>\n",
       "      <td>0</td>\n",
       "      <td>0</td>\n",
       "      <td>0</td>\n",
       "      <td>0</td>\n",
       "      <td>0</td>\n",
       "      <td>0</td>\n",
       "      <td>Can you catch diseases from toilet seat surfac...</td>\n",
       "      <td>catch disease toilet seat surface answer quest...</td>\n",
       "      <td>can you catch diseases from toilet seat</td>\n",
       "    </tr>\n",
       "    <tr>\n",
       "      <th>3</th>\n",
       "      <td>https://www.cleanipedia.com/gb/bathroom-cleani...</td>\n",
       "      <td>Key Steps\\nRemember these 5 rules to cleaning ...</td>\n",
       "      <td>['bath', 'tips and tricks_cleaning', 'sanitati...</td>\n",
       "      <td>key stepsrememb 5 rule clean bathtubchoos righ...</td>\n",
       "      <td>1</td>\n",
       "      <td>0</td>\n",
       "      <td>0</td>\n",
       "      <td>0</td>\n",
       "      <td>0</td>\n",
       "      <td>0</td>\n",
       "      <td>...</td>\n",
       "      <td>0</td>\n",
       "      <td>0</td>\n",
       "      <td>0</td>\n",
       "      <td>0</td>\n",
       "      <td>0</td>\n",
       "      <td>0</td>\n",
       "      <td>0</td>\n",
       "      <td>How to clean an enamel bathtub Bathing in a di...</td>\n",
       "      <td>clean enamel bathtub Bathing dirty enamel bath...</td>\n",
       "      <td>clean bathtub</td>\n",
       "    </tr>\n",
       "    <tr>\n",
       "      <th>4</th>\n",
       "      <td>https://www.cleanipedia.com/gb/bathroom-cleani...</td>\n",
       "      <td>Key Points:\\n\\nDon’t overlook the effect of li...</td>\n",
       "      <td>['tips and tricks_cleaning', 'toilet_toilet cl...</td>\n",
       "      <td>key pointsdont overlook effect limescal toilet...</td>\n",
       "      <td>1</td>\n",
       "      <td>1</td>\n",
       "      <td>0</td>\n",
       "      <td>0</td>\n",
       "      <td>0</td>\n",
       "      <td>0</td>\n",
       "      <td>...</td>\n",
       "      <td>0</td>\n",
       "      <td>0</td>\n",
       "      <td>0</td>\n",
       "      <td>0</td>\n",
       "      <td>0</td>\n",
       "      <td>0</td>\n",
       "      <td>0</td>\n",
       "      <td>How to clean a toilet bowl and remove toilet b...</td>\n",
       "      <td>clean toilet bowl remove toilet bowl stain lik...</td>\n",
       "      <td>clean toilet bowl remove limescale</td>\n",
       "    </tr>\n",
       "  </tbody>\n",
       "</table>\n",
       "<p>5 rows × 508 columns</p>\n",
       "</div>"
      ],
      "text/plain": [
       "                                                 url  \\\n",
       "0  https://www.cleanipedia.com/gb/bathroom-cleani...   \n",
       "1  https://www.cleanipedia.com/gb/bathroom-cleani...   \n",
       "2  https://www.cleanipedia.com/gb/bathroom-cleani...   \n",
       "3  https://www.cleanipedia.com/gb/bathroom-cleani...   \n",
       "4  https://www.cleanipedia.com/gb/bathroom-cleani...   \n",
       "\n",
       "                                                text  \\\n",
       "0  Distilled vinegar can be used in many differen...   \n",
       "1  Everyone likes their bathroom to look good, fu...   \n",
       "2  Toilet seats are a hive of bacteria, and altho...   \n",
       "3  Key Steps\\nRemember these 5 rules to cleaning ...   \n",
       "4  Key Points:\\n\\nDon’t overlook the effect of li...   \n",
       "\n",
       "                                            tag_list  \\\n",
       "0  ['tips and tricks_cleaning', 'tips and tricks'...   \n",
       "1  ['storage', 'home decor', 'home decor', 'tips ...   \n",
       "2  ['anti bac', 'disinfection', 'germ transmissio...   \n",
       "3  ['bath', 'tips and tricks_cleaning', 'sanitati...   \n",
       "4  ['tips and tricks_cleaning', 'toilet_toilet cl...   \n",
       "\n",
       "                                          text_clean  \\\n",
       "0  distil vinegar use mani differ way around home...   \n",
       "1  everyon like bathroom look good function well ...   \n",
       "2  toilet seat hive bacteria although germ surviv...   \n",
       "3  key stepsrememb 5 rule clean bathtubchoos righ...   \n",
       "4  key pointsdont overlook effect limescal toilet...   \n",
       "\n",
       "   tag_tips and tricks_cleaning  tag_tips and tricks  tag_diy detergents  \\\n",
       "0                             1                    1                   1   \n",
       "1                             0                    1                   0   \n",
       "2                             0                    1                   0   \n",
       "3                             1                    0                   0   \n",
       "4                             1                    1                   0   \n",
       "\n",
       "   tag_100% natural  tag_general bathroom cleaning  tag_housekeeping  ...  \\\n",
       "0                 1                              1                 1  ...   \n",
       "1                 0                              1                 0  ...   \n",
       "2                 0                              0                 0  ...   \n",
       "3                 0                              0                 0  ...   \n",
       "4                 0                              0                 0  ...   \n",
       "\n",
       "   tag_sustainability fast fashion  tag_social media discoverer  \\\n",
       "0                                0                            0   \n",
       "1                                0                            0   \n",
       "2                                0                            0   \n",
       "3                                0                            0   \n",
       "4                                0                            0   \n",
       "\n",
       "   tag_social media consumer  tag_sustainability plastic_free  \\\n",
       "0                          0                                0   \n",
       "1                          0                                0   \n",
       "2                          0                                0   \n",
       "3                          0                                0   \n",
       "4                          0                                0   \n",
       "\n",
       "   tag_sustainability_newcomer  tag_domestic_staycation  tag_vegan mindset  \\\n",
       "0                            0                        0                  0   \n",
       "1                            0                        0                  0   \n",
       "2                            0                        0                  0   \n",
       "3                            0                        0                  0   \n",
       "4                            0                        0                  0   \n",
       "\n",
       "                                            raw_text  \\\n",
       "0  White Wine Vinegar for Cleaning: Using Vinegar...   \n",
       "1  Bathroom décor ideas that save space – and cle...   \n",
       "2  Can you catch diseases from toilet seat surfac...   \n",
       "3  How to clean an enamel bathtub Bathing in a di...   \n",
       "4  How to clean a toilet bowl and remove toilet b...   \n",
       "\n",
       "                                           text_norm  \\\n",
       "0  White Wine vinegar clean vinegar clean Bathroo...   \n",
       "1  Bathroom dcor idea save space clean easily bat...   \n",
       "2  catch disease toilet seat surface answer quest...   \n",
       "3  clean enamel bathtub Bathing dirty enamel bath...   \n",
       "4  clean toilet bowl remove toilet bowl stain lik...   \n",
       "\n",
       "                                          path_title  \n",
       "0               bathroom cleaning with white vinegar  \n",
       "1  bathroom decor ideas that save space and clean...  \n",
       "2            can you catch diseases from toilet seat  \n",
       "3                                      clean bathtub  \n",
       "4                 clean toilet bowl remove limescale  \n",
       "\n",
       "[5 rows x 508 columns]"
      ]
     },
     "execution_count": 48,
     "metadata": {},
     "output_type": "execute_result"
    }
   ],
   "source": [
    "data = pd.read_csv('data/article_data.csv', usecols=)\n",
    "data.head()"
   ]
  },
  {
   "cell_type": "markdown",
   "metadata": {},
   "source": [
    "## Extract Article Text"
   ]
  },
  {
   "cell_type": "code",
   "execution_count": 7,
   "metadata": {},
   "outputs": [],
   "source": [
    "import requests\n",
    "from bs4 import BeautifulSoup\n",
    "\n",
    "def extract_article(url: str):\n",
    "    response = requests.get(url, verify=False)\n",
    "    soup = BeautifulSoup(response.text, \"html.parser\")\n",
    "    \n",
    "    body = ''.join([text.get_text() for text in soup.find_all('section','article-text')])\n",
    "    \n",
    "    warning_message = soup.find('section','mb-8 Warning')\n",
    "    if warning_message != None:\n",
    "        warning_message = warning_message.get_text()\n",
    "    else:\n",
    "        warning_message = ''\n",
    "        \n",
    "    summary = soup.find('span','callout')\n",
    "    if summary != None:\n",
    "        summary = summary.get_text()\n",
    "    else:\n",
    "        summary=''\n",
    "        \n",
    "    title = soup.find('h1').get_text()\n",
    "    sub_title = soup.find('p').get_text()\n",
    "    \n",
    "    return title + ' ' + sub_title + ' ' + summary + ' ' + body + ' ' + warning_message"
   ]
  },
  {
   "cell_type": "code",
   "execution_count": 8,
   "metadata": {},
   "outputs": [
    {
     "name": "stdout",
     "output_type": "stream",
     "text": [
      "Runtime: 833.89s / 13.90mins\n"
     ]
    }
   ],
   "source": [
    "start = perf_counter()\n",
    "\n",
    "data['raw_text'] = data['url'].apply(lambda url: extract_article(url))\n",
    "\n",
    "end = perf_counter()\n",
    "execution_time = (end - start)\n",
    "print(f'Runtime: {execution_time:.2f}s / {execution_time/60:.2f}mins')"
   ]
  },
  {
   "cell_type": "code",
   "execution_count": null,
   "metadata": {},
   "outputs": [],
   "source": [
    "tag_names = dict([(tag, f'tag_{tag}') for tag in data.iloc[:,4:-1].columns])\n",
    "data = data.rename(columns=tag_names)\n",
    "tag_cols = list(data.iloc[:,4:-1].columns)"
   ]
  },
  {
   "cell_type": "markdown",
   "metadata": {},
   "source": [
    "### Tag Counts"
   ]
  },
  {
   "cell_type": "code",
   "execution_count": 4,
   "metadata": {},
   "outputs": [],
   "source": [
    "def count_labels(label_data, labels: list):\n",
    "    \"\"\"\n",
    "        returns label counts for all labels\n",
    "        \n",
    "        label_data - binary data indicating label presence\n",
    "        labels - label names\n",
    "    \"\"\"\n",
    "    if type(label_data) != 'pandas.core.frame.DataFrame':\n",
    "        label_data = pd.DataFrame(label_data, columns = labels)\n",
    "        \n",
    "    return pd.DataFrame([(label, sum(label_data[label])) for label in labels], columns=['Label', 'Count']).sort_values(by='Count', ascending=False)"
   ]
  },
  {
   "cell_type": "code",
   "execution_count": null,
   "metadata": {},
   "outputs": [],
   "source": [
    "tag_counts = count_labels(data, tag_cols)\n",
    "tag_counts.style.hide_index()"
   ]
  },
  {
   "cell_type": "code",
   "execution_count": 159,
   "metadata": {},
   "outputs": [],
   "source": [
    "tag_cols = list(tag_counts['Label'].loc[tag_counts['Count'] >= 50].values)"
   ]
  },
  {
   "cell_type": "markdown",
   "metadata": {},
   "source": [
    "# Text Preprocess"
   ]
  },
  {
   "cell_type": "code",
   "execution_count": null,
   "metadata": {},
   "outputs": [],
   "source": [
    "start = perf_counter()\n",
    "\n",
    "data['text_norm'] = normalise_text(data['raw_text'], remove_digit=False, stopword=spacy_stopwords)\n",
    "\n",
    "end = perf_counter()\n",
    "execution_time = (end - start)\n",
    "print(f'Runtime: {execution_time:.2f}s / {execution_time/60:.2f}mins')"
   ]
  },
  {
   "cell_type": "code",
   "execution_count": null,
   "metadata": {},
   "outputs": [],
   "source": [
    "# URL path title\n",
    "titles = []\n",
    "for url in data['url']:\n",
    "    title = url.replace('.', '/').split('/')[-2]\n",
    "    titles.append(' '.join(word for word in title.split('-')))\n",
    "data['path_title'] = titles"
   ]
  },
  {
   "cell_type": "code",
   "execution_count": 377,
   "metadata": {},
   "outputs": [],
   "source": [
    "corpus = data['path_title'] + data['text_norm']"
   ]
  },
  {
   "cell_type": "markdown",
   "metadata": {},
   "source": [
    "# Feature Engineering"
   ]
  },
  {
   "cell_type": "code",
   "execution_count": null,
   "metadata": {},
   "outputs": [],
   "source": [
    "# Word Count\n",
    "data['char_count'] = data['text'].apply(len)\n",
    "# Character Count\n",
    "data['word_count'] = data['text'].apply(lambda text: len(text.split()))\n",
    "# Punctuation count\n",
    "data['punctuation_count'] = data['text'].apply(lambda text: count_punct(text))\n",
    "# Upper Case count\n",
    "data['upper_case_word_count'] = data['text'].apply(lambda text: count_upper(text))\n",
    "#Entity Count\n",
    "data['entity_count'] = data['text'].apply(lambda text: count_entities(text))"
   ]
  },
  {
   "cell_type": "code",
   "execution_count": null,
   "metadata": {},
   "outputs": [],
   "source": [
    "# POS type counts\n",
    "data['noun_count'] = data['text'].apply(lambda text: count_pos_type(text, 'noun'))\n",
    "data['verb_count'] = data['text'].apply(lambda text: count_pos_type(text, 'verb'))\n",
    "data['adj_count'] = data['text'].apply(lambda text: count_pos_type(text, 'adjective'))\n",
    "data['adv_count'] = data['text'].apply(lambda text: count_pos_type(text, 'adverb'))\n",
    "data['pron_count'] = data['text'].apply(lambda text: count_pos_type(text, 'pronoun'))"
   ]
  },
  {
   "cell_type": "markdown",
   "metadata": {},
   "source": [
    "## Information Gain"
   ]
  },
  {
   "cell_type": "code",
   "execution_count": null,
   "metadata": {},
   "outputs": [],
   "source": [
    "def sum_IG(text, IG_dict: dict):\n",
    "    return sum([IG_dict[word] for word in text.split() if word in IG_dict.keys()])/len(text.split())"
   ]
  },
  {
   "cell_type": "code",
   "execution_count": null,
   "metadata": {},
   "outputs": [],
   "source": [
    "from sklearn.feature_extraction.text import CountVectorizer\n",
    "\n",
    "binary_vector = CountVectorizer(ngram_range=(1,1), min_df=2, binary=True)\n",
    "data_binary_vector = binary_vector.fit_transform(corpus)\n",
    "\n",
    "start = perf_counter()\n",
    "\n",
    "vocab = binary_vector.get_feature_names()\n",
    "\n",
    "IG_mat = np.zeros(shape=(len(data),len(tag_cols)))\n",
    "                  \n",
    "for i in range(IG_mat.shape[1]):\n",
    "    IG_scores =  dict(zip(vocab,\n",
    "                               mutual_info_classif(\n",
    "                               csr_matrix(data_binary_vector), data[tag_cols[i]],\n",
    "                               discrete_features=True,\n",
    "                               random_state=RANDOM_STATE\n",
    "                                  )\n",
    "                                ))\n",
    "    for j in range(len(data['text_norm'])):\n",
    "        IG_mat[j][i] = sum_IG(data['text_norm'][j], IG_scores)\n",
    "\n",
    "end = perf_counter()\n",
    "execution_time = (end - start)\n",
    "print(f'Runtime: {execution_time:.2f}s / {execution_time/60:.2f}mins')"
   ]
  },
  {
   "cell_type": "code",
   "execution_count": null,
   "metadata": {},
   "outputs": [],
   "source": [
    "IG_features = pd.DataFrame(IG_mat, index=data.index, columns = [f'IG_{tag}' for tag in tag_cols])"
   ]
  },
  {
   "cell_type": "code",
   "execution_count": null,
   "metadata": {},
   "outputs": [],
   "source": [
    "feature_cols = ['char_count','word_count','punctuation_count','upper_case_word_count','noun_count','verb_count','adj_count','adv_count','pron_count','entity_count']"
   ]
  },
  {
   "cell_type": "markdown",
   "metadata": {},
   "source": [
    "# Word Embedding"
   ]
  },
  {
   "cell_type": "markdown",
   "metadata": {},
   "source": [
    "### TF-IDF Matrix"
   ]
  },
  {
   "cell_type": "code",
   "execution_count": 396,
   "metadata": {},
   "outputs": [],
   "source": [
    "from sklearn.feature_extraction.text import TfidfVectorizer\n",
    "\n",
    "tfidf_vector = TfidfVectorizer(ngram_range=(1,1), min_df=1)\n",
    "data_tfidf_vec = tfidf_vector.fit_transform(corpus)"
   ]
  },
  {
   "cell_type": "markdown",
   "metadata": {},
   "source": [
    "# Feature Selection"
   ]
  },
  {
   "cell_type": "markdown",
   "metadata": {},
   "source": [
    "### Chi-Squared\n",
    "\n",
    "Using the chi2 value to select n highest features for each label. Higher the value the greater the dependence of a set of features with a label"
   ]
  },
  {
   "cell_type": "code",
   "execution_count": 160,
   "metadata": {},
   "outputs": [
    {
     "name": "stdout",
     "output_type": "stream",
     "text": [
      "Runtime: 1.38s / 0.02mins\n"
     ]
    }
   ],
   "source": [
    "from scipy.sparse import csr_matrix\n",
    "from sklearn.feature_selection import chi2\n",
    "\n",
    "start = perf_counter()\n",
    "\n",
    "mat_chi2 = np.zeros(shape=(len(tag_cols), data_tfidf_vec.shape[1]))\n",
    "\n",
    "for i in range(mat_chi2.shape[0]):\n",
    "    score, _ = chi2(csr_matrix(data_tfidf_vec), data[tag_cols[i]])\n",
    "    mat_chi2[i] = score\n",
    "    \n",
    "end = perf_counter()\n",
    "execution_time = (end - start)\n",
    "print(f'Runtime: {execution_time:.2f}s / {execution_time/60:.2f}mins')"
   ]
  },
  {
   "cell_type": "code",
   "execution_count": 10,
   "metadata": {},
   "outputs": [],
   "source": [
    "def chi2_per_label(chi2_values, n: int):\n",
    "    \"\"\"\n",
    "        returns n words for each label having the highest chi2 value\n",
    "        \n",
    "        chi2_values - chi2 matrix (n,m) n- labels, m-features\n",
    "        n - top n most words\n",
    "    \"\"\"\n",
    "    chi2_data = pd.DataFrame(chi2_values, index=tag_cols, columns = tfidf_vector.get_feature_names())\n",
    "    words = set()\n",
    "    for label in chi2_data.index:\n",
    "        words.update(chi2_data.loc[label,:].sort_values(ascending=False).index[:n])\n",
    "    print(f'{len(words)}/{len(tfidf_vector.get_feature_names())} Word Features')\n",
    "    return words"
   ]
  },
  {
   "cell_type": "code",
   "execution_count": 161,
   "metadata": {},
   "outputs": [
    {
     "name": "stdout",
     "output_type": "stream",
     "text": [
      "39093/209932 Word Features\n"
     ]
    }
   ],
   "source": [
    "selected_features = chi2_per_label(mat_chi2, 2500)"
   ]
  },
  {
   "cell_type": "code",
   "execution_count": 397,
   "metadata": {},
   "outputs": [],
   "source": [
    "# word vector dataframe\n",
    "data_tfidf = pd.DataFrame(data_tfidf_vec.toarray(), columns=tfidf_vector.get_feature_names())\n",
    "# features dataframe\n",
    "data_features = pd.concat([data_tfidf, data[tag_cols]], axis=1)\n",
    "# drop rows with all zeros\n",
    "data_features = data_features.loc[~(data_features[tag_cols]==0).all(axis=1)]"
   ]
  },
  {
   "cell_type": "markdown",
   "metadata": {},
   "source": [
    "# Label Dependency"
   ]
  },
  {
   "cell_type": "code",
   "execution_count": null,
   "metadata": {},
   "outputs": [],
   "source": [
    "from scipy.sparse import csr_matrix\n",
    "from sklearn.feature_selection import chi2\n",
    "\n",
    "start = perf_counter()\n",
    "\n",
    "mat_chi2 = np.zeros(shape=(len(tag_cols), len(tag_cols)))\n",
    "\n",
    "for i in range(mat_chi2.shape[0]):\n",
    "    score, _ = chi2(data[[tag for tag in tag_cols if tag != tag_cols[i]]], data[tag_cols[i]])\n",
    "    score = np.insert(score, i, 1)\n",
    "    mat_chi2[i] = score\n",
    "\n",
    "chi2_dependency = pd.DataFrame(mat_chi2)\n",
    "end = perf_counter()\n",
    "execution_time = (end - start)\n",
    "print(f'Runtime: {execution_time:.2f}s / {execution_time/60:.2f}mins')"
   ]
  },
  {
   "cell_type": "code",
   "execution_count": null,
   "metadata": {},
   "outputs": [],
   "source": [
    "tag_counts = count_labels(data, tag_cols)"
   ]
  },
  {
   "cell_type": "code",
   "execution_count": null,
   "metadata": {},
   "outputs": [],
   "source": [
    "def create_clusters(dependecy_data, threshold: int, counts: list):\n",
    "    \"\"\"\n",
    "        returns list of clusters containing the index of labels based on the chi squared value (dependencies) for a label\n",
    "        \n",
    "        dependecy_data - chi square labelxlabel matrix\n",
    "        threshold - chi squared value to accept as dependent label\n",
    "        counts - label counts\n",
    "    \"\"\"\n",
    "    clusters = []\n",
    "    others = []\n",
    "    for i in range(len(tag_cols)):\n",
    "        dependants = list(chi2_dependency.iloc[i,:][chi2_dependency.iloc[i,:].sort_values(ascending=False)>threshold].index)\n",
    "        if len(dependants) > 0:\n",
    "            dependants.append(chi2_dependency.iloc[i,:].name)\n",
    "            clusters.append(dependants)\n",
    "        elif len(dependants) == 0:\n",
    "            others.append(chi2_dependency.iloc[i,:].name)\n",
    "    if others:\n",
    "        clusters.append(others)\n",
    "    # Merge Clusters that are similar i.e. have a difference of at least 1 tag\n",
    "    merged_clusters = []\n",
    "    for cluster in clusters:\n",
    "        new_cluster = set(cluster)\n",
    "        other_clusters = [cluster_ for cluster_ in clusters if cluster_ != cluster]\n",
    "        for cluster_ in other_clusters:\n",
    "            if len(set(cluster) - set(cluster_)) <= 1:\n",
    "                new_cluster = new_cluster.union(set(cluster_))\n",
    "                clusters.remove(cluster_)\n",
    "        new_cluster = [tag for _,tag in sorted(zip(counts,new_cluster))]\n",
    "        merged_clusters.append(list(new_cluster))\n",
    "    return merged_clusters"
   ]
  },
  {
   "cell_type": "code",
   "execution_count": null,
   "metadata": {},
   "outputs": [],
   "source": [
    "clusters = create_clusters(chi2_dependency, 50, tag_counts['Count'].values)"
   ]
  },
  {
   "cell_type": "markdown",
   "metadata": {},
   "source": [
    "# Resampling\n",
    "\n",
    "## Label Decoupling\n",
    "\n",
    "Implementation based on the REMEDIAL Method from paper - https://arxiv.org/pdf/1802.05031.pdf\n",
    "\n",
    "See paper for details on the formulas\n",
    "\n",
    "<b>IRLbl</b> (Individual label imbalance) - Count of the most frequent label in a label set / Count of the individual label\n",
    "\n",
    "<b>mean_IR</b> - Global label imbalance - mean IRLbl\n",
    "\n",
    "<b>SCUMBLE</b> - Metric the indicates the level of concurrence between common and rare labels whose values will be in the [0, 1] range. The higher the value the more instances containing minority and majority labels exist in the MLD.\n",
    "\n",
    "<b>REMEDIAL</b> Algorithm - looks for instances that contain both majority and minority labels and decouples them, creating a copy that contains only the majority labels, whilst maintaining the minority labels in the original instance and append the copy to the dataset.\n"
   ]
  },
  {
   "cell_type": "code",
   "execution_count": null,
   "metadata": {},
   "outputs": [],
   "source": [
    "def frequent_label(data, labels):\n",
    "    return max([sum(data[label].values) for label in labels])\n",
    "\n",
    "def IRLbl(Series, most_frequent):\n",
    "    return most_frequent / sum(Series.values)\n",
    "\n",
    "def mean_IR(data, labels, most_frequent, vals=[]):\n",
    "    IRLbls = []\n",
    "    if len(vals) > 0:\n",
    "        IRLbls = vals\n",
    "    else:\n",
    "        IRLbls = [IRLbl(data[label], most_frequent) for label in labels]\n",
    "    return sum(IRLbls) / len(IRLbls)"
   ]
  },
  {
   "cell_type": "code",
   "execution_count": null,
   "metadata": {},
   "outputs": [],
   "source": [
    "def SCUMBLE(data, labels):\n",
    "    \"\"\"\n",
    "        returns scumble values for each instance and the mean scumble value for the dataset\n",
    "        \n",
    "        data - DataFrame\n",
    "        labels - class label names\n",
    "    \"\"\"\n",
    "    scumble = []\n",
    "    for i in range(data[labels].shape[0]):\n",
    "        labels_ = data[labels].iloc[i, :][data[labels].iloc[i, :] > 0].index\n",
    "        most_frequent = frequent_label(data, labels_)\n",
    "        scumble.append(1 - \\\n",
    "                       ((1/mean_IR(data, labels_, most_frequent))\\\n",
    "                        * (np.prod([IRLbl(data[label], most_frequent) for label in labels_])\\\n",
    "                           **(1/len(labels_)))))\n",
    "        \n",
    "    return scumble, (sum(scumble) / len(scumble))"
   ]
  },
  {
   "cell_type": "code",
   "execution_count": null,
   "metadata": {},
   "outputs": [],
   "source": [
    "def REMEDIAL(data, labels, threshold=None):\n",
    "    \"\"\"\n",
    "        returns data with instances containing majority/minority samples decoupled\n",
    "        \n",
    "        data - DataFrame\n",
    "        labels - class label names\n",
    "    \"\"\"\n",
    "    most_frequent = frequent_label(data, labels)\n",
    "    IRLbls = [IRLbl(data[label], most_frequent) for label in labels]\n",
    "    mean_IR_ = mean_IR(data, labels, most_frequent, vals=IRLbls)\n",
    "    IRLbls_ref = dict(zip(labels,IRLbls)) # Individual imbalance look-up\n",
    "    scumble_vals, scumble_ = SCUMBLE(data, labels)\n",
    "    if not threshold:\n",
    "        threshold = scumble_\n",
    "    for i in range(data[labels].shape[0]): # For each article\n",
    "        if scumble_vals[i] > threshold:\n",
    "            d = data.loc[i, :]\n",
    "            labels_ = data[labels].loc[i, :][data[labels].loc[i, :] > 0].index\n",
    "            majority_labels = [label for label in labels_ if IRLbls_ref[label] <= mean_IR_]\n",
    "            minority_labels = [label for label in labels_ if IRLbls_ref[label] > mean_IR_]\n",
    "            if majority_labels and minority_labels:\n",
    "                d_ = d.copy()\n",
    "                d_.loc[majority_labels] = 0 # maintain minority labels\n",
    "                d.loc[minority_labels] = 0 # maintain majority labels\n",
    "                data = data.append(d_, ignore_index=True)\n",
    "    return data"
   ]
  },
  {
   "cell_type": "code",
   "execution_count": null,
   "metadata": {},
   "outputs": [],
   "source": [
    "data_features_ = REMEDIAL(data_features, tag_cols, threshold=0.25)"
   ]
  },
  {
   "cell_type": "markdown",
   "metadata": {},
   "source": [
    "## TO TRY: Multi Label Sampling"
   ]
  },
  {
   "cell_type": "markdown",
   "metadata": {},
   "source": [
    "# Model\n",
    "\n",
    "3 Main approaches \n",
    "\n",
    "- Binary Relevance\n",
    "\n",
    "- Classifier Chain\n",
    "\n",
    "- Adaptive Algorithm"
   ]
  },
  {
   "cell_type": "markdown",
   "metadata": {},
   "source": [
    "### Data Shuffle/Split"
   ]
  },
  {
   "cell_type": "code",
   "execution_count": 399,
   "metadata": {},
   "outputs": [],
   "source": [
    "# Randomly shuffle all rows\n",
    "data_features = data_features.sample(frac=1, random_state=RANDOM_STATE)\n",
    "data_features = data_features.sample(frac=1, random_state=RANDOM_STATE)\n",
    "data_features = data_features.sample(frac=1, random_state=RANDOM_STATE)"
   ]
  },
  {
   "cell_type": "code",
   "execution_count": 400,
   "metadata": {},
   "outputs": [],
   "source": [
    "from skmultilearn.model_selection import iterative_train_test_split\n",
    "\n",
    "X = data_features.drop(tag_cols, axis = 1)\n",
    "y = data_features[tag_cols]\n",
    "\n",
    "X_train, y_train, X_test, y_test = iterative_train_test_split(X.to_numpy(), y.to_numpy(), test_size = 0.3)"
   ]
  },
  {
   "cell_type": "code",
   "execution_count": null,
   "metadata": {
    "scrolled": true
   },
   "outputs": [],
   "source": [
    "count_labels(y_train, tag_cols).style.hide_index()"
   ]
  },
  {
   "cell_type": "code",
   "execution_count": null,
   "metadata": {
    "scrolled": true
   },
   "outputs": [],
   "source": [
    "count_labels(y_test, tag_cols).style.hide_index()"
   ]
  },
  {
   "cell_type": "markdown",
   "metadata": {},
   "source": [
    "## Classifier Chain\n",
    "\n",
    "Approach is good for taking in to account label dependencies"
   ]
  },
  {
   "cell_type": "code",
   "execution_count": 401,
   "metadata": {},
   "outputs": [],
   "source": [
    "from sklearn.naive_bayes import MultinomialNB\n",
    "from skmultilearn.problem_transform import ClassifierChain\n",
    "from sklearn.svm import SVC\n",
    "from sklearn.ensemble import RandomForestClassifier\n",
    "\n",
    "# nb_classifier = ClassifierChain(\n",
    "#     classifier = MultinomialNB(alpha=0.0)\n",
    "# )\n",
    "\n",
    "nb_classifier = ClassifierChain(\n",
    "    classifier = RandomForestClassifier(n_estimators=500, random_state=RANDOM_STATE, n_jobs=-1)\n",
    ")"
   ]
  },
  {
   "cell_type": "markdown",
   "metadata": {},
   "source": [
    "## Majority Voting CC"
   ]
  },
  {
   "cell_type": "code",
   "execution_count": null,
   "metadata": {},
   "outputs": [],
   "source": [
    "from skmultilearn.ensemble import MajorityVotingClassifier\n",
    "from skmultilearn.cluster import FixedLabelSpaceClusterer\n",
    "\n",
    "nb_classifier = MajorityVotingClassifier(\n",
    "    classifier = ClassifierChain(\n",
    "        classifier = MultinomialNB(alpha=0.0)\n",
    "    ),\n",
    "    clusterer = FixedLabelSpaceClusterer(clusters=clusters)\n",
    ")"
   ]
  },
  {
   "cell_type": "markdown",
   "metadata": {},
   "source": [
    "## Parameter Tuning"
   ]
  },
  {
   "cell_type": "code",
   "execution_count": null,
   "metadata": {},
   "outputs": [],
   "source": [
    "from sklearn.model_selection import GridSearchCV\n",
    "\n",
    "parameters = [\n",
    "    {\n",
    "        'classifier': [RandomForestClassifier()],\n",
    "        'classifier__n_estimators': np.linspace(100, 500, num=3, dtype=int),\n",
    "        'classifier__min_samples_leaf': np.linspace(1, 50, num=5, dtype=int),\n",
    "        'classifier__oob_score': [True, False]\n",
    "    },\n",
    "]\n",
    "\n",
    "clf = GridSearchCV(ClassifierChain(), parameters, scoring='f1_samples', cv=3, n_jobs=-1)\n",
    "\n",
    "clf.fit(X_train, y_train)\n",
    "\n",
    "print(clf.best_params_, clf.best_score_)"
   ]
  },
  {
   "cell_type": "code",
   "execution_count": 402,
   "metadata": {},
   "outputs": [],
   "source": [
    "nb_classifier = nb_classifier.fit(X_train, y_train)"
   ]
  },
  {
   "cell_type": "markdown",
   "metadata": {},
   "source": [
    "### Predict"
   ]
  },
  {
   "cell_type": "code",
   "execution_count": 403,
   "metadata": {},
   "outputs": [],
   "source": [
    "y_prob = nb_classifier.predict_proba(X_test)\n",
    "t = 0.1 # threshold value\n",
    "y_pred = (y_prob.toarray() >= t).astype(int)"
   ]
  },
  {
   "cell_type": "code",
   "execution_count": 404,
   "metadata": {},
   "outputs": [],
   "source": [
    "top_pred = (-np.sort(-y_prob.toarray()) >= t).astype(int)[:,:10]\n",
    "label_pred = list(zip((np.argsort(-y_prob.toarray()))[:,:10], top_pred))"
   ]
  },
  {
   "cell_type": "markdown",
   "metadata": {},
   "source": [
    "## Evaluate Model"
   ]
  },
  {
   "cell_type": "code",
   "execution_count": 389,
   "metadata": {},
   "outputs": [],
   "source": [
    "def compare_labels(pred, true, instance: int):\n",
    "    \"\"\"\n",
    "        Compares the predicted/true labels for a given instance\n",
    "        \n",
    "        pred - model predicted values\n",
    "        true - y_test values\n",
    "    \"\"\"\n",
    "    pred_labels = [tag_cols[i] for i in label_pred[instance][0]]\n",
    "    pred = pd.Series(label_pred[instance][1], index=pred_labels)\n",
    "    pred_labels = pred[pred > 0].index\n",
    "    \n",
    "    true = pd.DataFrame(true, columns=tag_cols)\n",
    "    true_labels = true.iloc[instance,:][true.iloc[instance,:] > 0].index\n",
    "    \n",
    "    output = pd.DataFrame([list(true_labels), list(pred_labels), list(set(true_labels).intersection(set(pred_labels)))], index=['True Labels', 'Predicted Labels', 'Common Labels'])\n",
    "    return output.T.fillna('')"
   ]
  },
  {
   "cell_type": "code",
   "execution_count": 413,
   "metadata": {},
   "outputs": [
    {
     "data": {
      "text/html": [
       "<div>\n",
       "<style scoped>\n",
       "    .dataframe tbody tr th:only-of-type {\n",
       "        vertical-align: middle;\n",
       "    }\n",
       "\n",
       "    .dataframe tbody tr th {\n",
       "        vertical-align: top;\n",
       "    }\n",
       "\n",
       "    .dataframe thead th {\n",
       "        text-align: right;\n",
       "    }\n",
       "</style>\n",
       "<table border=\"1\" class=\"dataframe\">\n",
       "  <thead>\n",
       "    <tr style=\"text-align: right;\">\n",
       "      <th></th>\n",
       "      <th>True Labels</th>\n",
       "      <th>Predicted Labels</th>\n",
       "      <th>Common Labels</th>\n",
       "    </tr>\n",
       "  </thead>\n",
       "  <tbody>\n",
       "    <tr>\n",
       "      <th>0</th>\n",
       "      <td>tag_tips and tricks</td>\n",
       "      <td>tag_tips and tricks</td>\n",
       "      <td>tag_tips and tricks</td>\n",
       "    </tr>\n",
       "    <tr>\n",
       "      <th>1</th>\n",
       "      <td>tag_tips and tricks_cleaning</td>\n",
       "      <td>tag_sustainability eco_friendly</td>\n",
       "      <td>tag_home decor</td>\n",
       "    </tr>\n",
       "    <tr>\n",
       "      <th>2</th>\n",
       "      <td>tag_home decor</td>\n",
       "      <td>tag_tips and tricks_cleaning</td>\n",
       "      <td>tag_sustainability eco_friendly</td>\n",
       "    </tr>\n",
       "    <tr>\n",
       "      <th>3</th>\n",
       "      <td>tag_sustainability eco_friendly</td>\n",
       "      <td>tag_sustainability</td>\n",
       "      <td>tag_tips and tricks_cleaning</td>\n",
       "    </tr>\n",
       "    <tr>\n",
       "      <th>4</th>\n",
       "      <td></td>\n",
       "      <td>tag_tutorials</td>\n",
       "      <td></td>\n",
       "    </tr>\n",
       "    <tr>\n",
       "      <th>5</th>\n",
       "      <td></td>\n",
       "      <td>tag_sustainability_sustainable living</td>\n",
       "      <td></td>\n",
       "    </tr>\n",
       "    <tr>\n",
       "      <th>6</th>\n",
       "      <td></td>\n",
       "      <td>tag_home decor</td>\n",
       "      <td></td>\n",
       "    </tr>\n",
       "    <tr>\n",
       "      <th>7</th>\n",
       "      <td></td>\n",
       "      <td>tag_diy at home</td>\n",
       "      <td></td>\n",
       "    </tr>\n",
       "  </tbody>\n",
       "</table>\n",
       "</div>"
      ],
      "text/plain": [
       "                       True Labels                       Predicted Labels  \\\n",
       "0              tag_tips and tricks                    tag_tips and tricks   \n",
       "1     tag_tips and tricks_cleaning        tag_sustainability eco_friendly   \n",
       "2                   tag_home decor           tag_tips and tricks_cleaning   \n",
       "3  tag_sustainability eco_friendly                     tag_sustainability   \n",
       "4                                                           tag_tutorials   \n",
       "5                                   tag_sustainability_sustainable living   \n",
       "6                                                          tag_home decor   \n",
       "7                                                         tag_diy at home   \n",
       "\n",
       "                     Common Labels  \n",
       "0              tag_tips and tricks  \n",
       "1                   tag_home decor  \n",
       "2  tag_sustainability eco_friendly  \n",
       "3     tag_tips and tricks_cleaning  \n",
       "4                                   \n",
       "5                                   \n",
       "6                                   \n",
       "7                                   "
      ]
     },
     "execution_count": 413,
     "metadata": {},
     "output_type": "execute_result"
    }
   ],
   "source": [
    "instance = 6\n",
    "compare_labels(y_pred, y_test, instance)"
   ]
  },
  {
   "cell_type": "markdown",
   "metadata": {},
   "source": [
    "#### Corresponding Article"
   ]
  },
  {
   "cell_type": "code",
   "execution_count": 411,
   "metadata": {
    "scrolled": false
   },
   "outputs": [
    {
     "name": "stdout",
     "output_type": "stream",
     "text": [
      "Powerful laundry detergent: how and when to use them Sometimes you just need a powerful laundry detergent to lift a particularly difficult stain. But how and when is it best to use them? Find out here! Use a high quality detergent, like Persil, and always test on a small, inconspicuous piece of fabric if using it as a pre-treatment and use only as directed on the packaging. Key steps\n",
      "\n",
      " When pre-treating a stain, use a soft toothbrush to gently work the detergent into the fabric. \n",
      "Follow any special instructions on the detergent packet, remembering that capsules go into the drum of the washing machine before your clothes.\n",
      "Wash at 30° C - it's better for your clothes and the environment.\n",
      "\n",
      "We’ve all been there – you’ve tried all the usual tricks (salt on the red wine, instant soaking of the tomato sauce stain), but some marks just don’t shift that easily. Sometimes it takes a strong, high-performance laundry detergent – like the power of Persil – to do the trick.\n",
      "If you’re worried about Persil’s power damaging clothes, you can relax – high-quality detergents are perfectly safe to use as long as you make sure you’re using them correctly.\n",
      "This article will show you what to look out for, so you can make the most of Persil stain removal and care for your clothes at the same time.\n",
      "Step 1: Pre-treating stains\n",
      "If you’re pre-treating with detergent, it’s often tempting to rub the detergent in as firmly as possible to really penetrate the fibres. This isn’t always the best option though, and you may end up doing more damage than good.\n",
      "If everything but Persil’s power has failed to shift the stain then it’s time to try pre-treating with this stain-busting detergent:\n",
      "\n",
      "Pre-treat with either liquid or powder detergent – liquid detergent can be applied directly to the stain whereas you’ll need to make a paste with the washing powder by mixing a few spoons with some cold water (never hot – that can set some stains into the fabric and make things worse).\n",
      "Gently rub the liquid detergent or washing powder paste into the stain. You can use a soft toothbrush to help the detergent work into the fabric.\n",
      "Leave for 1-2 minutes before rinsing the item in cold water.\n",
      "\n",
      "Step 2: Removing stains in the washing machine\n",
      "Once you’ve pre-treated your stains it’s time to use your powerful detergent in the washing machine to remove stains completely. Here’s how:\n",
      "\n",
      "Load your chosen laundry detergent and clothes into the washing machine – follow the instructions on the detergent packaging to load it in the correct place (capsules go in the drum before clothes) and make sure you don’t overload the machine.\n",
      "Turn the machine to an appropriate wash setting – you should check the care label on your clothes for the maximum temperature and wash cycle to use but your detergent will also give instructions. Using biological detergents at 40°C will actually reduce their effectiveness as it can cause the enzymes contained in the detergent to denature and stop working properly. Switching to 30° C is a better option – for your clothes and for the environment.\n",
      "Once the cycle is finished, empty your washing machine straightaway to prevent your clothes from developing musty smells or mould. You should always hang your clothes to dry naturally in the sun for the best results but you can also use a clothes airer indoors if the weather won’t allow it. You can also dry some clothes in the dryer but always check the care label first to make sure it is safe to do so.\n",
      "\n",
      "There you have it – our guide to using the power of Persil and stain-busting detergents safely and effectively to wash even the toughest stains! For more information, check out these articles on how to treat stains safely. \n"
     ]
    }
   ],
   "source": [
    "for i, row in enumerate(data_features.drop(tag_cols, axis=1).values):\n",
    "    if list(X_test[instance]) == list(row):\n",
    "        break\n",
    "print(data.loc[data_features.index[i], 'raw_text'])"
   ]
  },
  {
   "cell_type": "code",
   "execution_count": 406,
   "metadata": {},
   "outputs": [
    {
     "data": {
      "text/html": [
       "<div>\n",
       "<style scoped>\n",
       "    .dataframe tbody tr th:only-of-type {\n",
       "        vertical-align: middle;\n",
       "    }\n",
       "\n",
       "    .dataframe tbody tr th {\n",
       "        vertical-align: top;\n",
       "    }\n",
       "\n",
       "    .dataframe thead th {\n",
       "        text-align: right;\n",
       "    }\n",
       "</style>\n",
       "<table border=\"1\" class=\"dataframe\">\n",
       "  <thead>\n",
       "    <tr style=\"text-align: right;\">\n",
       "      <th></th>\n",
       "      <th>precision</th>\n",
       "      <th>recall</th>\n",
       "      <th>f1-score</th>\n",
       "      <th>jaccard_score</th>\n",
       "    </tr>\n",
       "  </thead>\n",
       "  <tbody>\n",
       "    <tr>\n",
       "      <th>micro avg</th>\n",
       "      <td>0.38</td>\n",
       "      <td>0.79</td>\n",
       "      <td>0.52</td>\n",
       "      <td>0.35</td>\n",
       "    </tr>\n",
       "    <tr>\n",
       "      <th>macro avg</th>\n",
       "      <td>0.35</td>\n",
       "      <td>0.66</td>\n",
       "      <td>0.44</td>\n",
       "      <td>0.30</td>\n",
       "    </tr>\n",
       "    <tr>\n",
       "      <th>weighted avg</th>\n",
       "      <td>0.39</td>\n",
       "      <td>0.79</td>\n",
       "      <td>0.51</td>\n",
       "      <td>0.36</td>\n",
       "    </tr>\n",
       "    <tr>\n",
       "      <th>samples avg</th>\n",
       "      <td>0.42</td>\n",
       "      <td>0.81</td>\n",
       "      <td>0.52</td>\n",
       "      <td>0.38</td>\n",
       "    </tr>\n",
       "  </tbody>\n",
       "</table>\n",
       "</div>"
      ],
      "text/plain": [
       "              precision  recall  f1-score  jaccard_score\n",
       "micro avg          0.38    0.79      0.52           0.35\n",
       "macro avg          0.35    0.66      0.44           0.30\n",
       "weighted avg       0.39    0.79      0.51           0.36\n",
       "samples avg        0.42    0.81      0.52           0.38"
      ]
     },
     "execution_count": 406,
     "metadata": {},
     "output_type": "execute_result"
    }
   ],
   "source": [
    "from sklearn.metrics import classification_report\n",
    "from sklearn.metrics import jaccard_score\n",
    "\n",
    "averages = ['micro', 'macro', 'weighted', 'samples']\n",
    "jaccard_scores = []\n",
    "for average in averages:\n",
    "    jaccard_scores.append(jaccard_score(y_test, y_pred, average=average))\n",
    "    \n",
    "jaccard = pd.DataFrame(jaccard_scores, index = [average + ' avg' for average in averages], columns=['jaccard_score'])\n",
    "\n",
    "np.round(pd.concat([pd.DataFrame(classification_report(y_test, y_pred, output_dict=True)).T.iloc[-4:, :3], jaccard], axis=1), 2)"
   ]
  },
  {
   "cell_type": "code",
   "execution_count": 408,
   "metadata": {},
   "outputs": [
    {
     "data": {
      "text/plain": [
       "Text(0.5, 1, ' Confusion Matrix - tag_malodour')"
      ]
     },
     "execution_count": 408,
     "metadata": {},
     "output_type": "execute_result"
    },
    {
     "data": {
      "image/png": "[encoded data removed]",
      "text/plain": [
       "<Figure size 1080x576 with 1 Axes>"
      ]
     },
     "metadata": {
      "needs_background": "light"
     },
     "output_type": "display_data"
    }
   ],
   "source": [
    "from sklearn.metrics import multilabel_confusion_matrix\n",
    "\n",
    "tag_id = tag_cols.index('tag_malodour')\n",
    "confusion = multilabel_confusion_matrix(y_test, y_pred)\n",
    "fig, axis = plt.subplots(figsize=(15,8))\n",
    "axis = sns.heatmap(confusion[tag_id], annot=True, fmt=\"d\", linewidths=0.5, cbar=False)\n",
    "axis.set(xlabel='Predicted', ylabel='Actual')\n",
    "axis.set_title(f' Confusion Matrix - {tag_cols[tag_id]}')"
   ]
  },
  {
   "cell_type": "code",
   "execution_count": 393,
   "metadata": {},
   "outputs": [],
   "source": [
    "def plot_feature_importance(model, features, n_words: int, labels: list, i: int):\n",
    "    \"\"\"\n",
    "    \n",
    "    \"\"\"\n",
    "    tags = labels.copy()\n",
    "    tags = list(set(tags) - set(tags[i:]))\n",
    "    \n",
    "    if 'feature_importances_' in dir(model[i]):\n",
    "        importance = model[i].feature_importances_\n",
    "    elif 'coef_' in dir(model[i]):\n",
    "        importance = abs(np.array(model[i].coef_).ravel())\n",
    "    else:\n",
    "        return None\n",
    "    \n",
    "    index = list(features) + tags\n",
    "    feature_importances = pd.DataFrame(importance,\n",
    "                                   index = index,\n",
    "                                   columns=['importance']).sort_values('importance', ascending=False)\n",
    "    \n",
    "    name = remove_special_characters(str(model.__class__).split('.')[-1])\n",
    "    \n",
    "    fig, axis = plt.subplots(1, 1, figsize=(15,5))\n",
    "    feature_importances[:n_words].plot.bar(ax=axis, legend=False)\n",
    "    plt.title(f'Feature importances - {name} - Label - {tag_cols[i]}', fontsize=18)\n",
    "    plt.ylabel('Relative Importance')"
   ]
  },
  {
   "cell_type": "code",
   "execution_count": 409,
   "metadata": {},
   "outputs": [
    {
     "data": {
      "image/png": "[encoded data removed]",
      "text/plain": [
       "<Figure size 1080x360 with 1 Axes>"
      ]
     },
     "metadata": {
      "needs_background": "light"
     },
     "output_type": "display_data"
    }
   ],
   "source": [
    "plot_feature_importance(nb_classifier.classifiers_, X.columns, 50, tag_cols, tag_cols.index('tag_malodour'))"
   ]
  }
 ],
 "metadata": {
  "kernelspec": {
   "display_name": "Python 3",
   "language": "python",
   "name": "python3"
  },
  "language_info": {
   "codemirror_mode": {
    "name": "ipython",
    "version": 3
   },
   "file_extension": ".py",
   "mimetype": "text/x-python",
   "name": "python",
   "nbconvert_exporter": "python",
   "pygments_lexer": "ipython3",
   "version": "3.6.10"
  }
 },
 "nbformat": 4,
 "nbformat_minor": 4
}
